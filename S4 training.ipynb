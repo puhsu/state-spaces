{
 "cells": [
  {
   "cell_type": "code",
   "execution_count": 130,
   "id": "9e9b7ebe",
   "metadata": {
    "ExecuteTime": {
     "end_time": "2022-11-07T11:07:47.357507Z",
     "start_time": "2022-11-07T11:07:47.319451Z"
    }
   },
   "outputs": [
    {
     "name": "stdout",
     "output_type": "stream",
     "text": [
      "The autoreload extension is already loaded. To reload it, use:\n",
      "  %reload_ext autoreload\n"
     ]
    }
   ],
   "source": [
    "%config Completer.use_jedi = False\n",
    "%load_ext autoreload\n",
    "%autoreload 2"
   ]
  },
  {
   "cell_type": "code",
   "execution_count": 131,
   "id": "fea85592",
   "metadata": {
    "ExecuteTime": {
     "end_time": "2022-11-07T11:07:47.564695Z",
     "start_time": "2022-11-07T11:07:47.536010Z"
    }
   },
   "outputs": [
    {
     "data": {
      "text/html": [
       "<style>.container { width:70% !important; }</style>"
      ],
      "text/plain": [
       "<IPython.core.display.HTML object>"
      ]
     },
     "metadata": {},
     "output_type": "display_data"
    }
   ],
   "source": [
    "from IPython.display import display, HTML, Video\n",
    "display(HTML(\"<style>.container { width:70% !important; }</style>\"))"
   ]
  },
  {
   "cell_type": "code",
   "execution_count": 132,
   "id": "9876786d",
   "metadata": {
    "ExecuteTime": {
     "end_time": "2022-11-07T11:07:47.758817Z",
     "start_time": "2022-11-07T11:07:47.731367Z"
    }
   },
   "outputs": [],
   "source": [
    "import matplotlib \n",
    "import matplotlib_inline\n",
    "import matplotlib.pyplot as plt\n",
    "\n",
    "import torch\n",
    "\n",
    "import tqdm.autonotebook as tqdm\n",
    "\n",
    "from model.s4 import S4\n",
    "from model.s4_model import S4Model\n",
    "from datasets import SequentialCIFAR10"
   ]
  },
  {
   "cell_type": "code",
   "execution_count": 133,
   "id": "175bb76a",
   "metadata": {
    "ExecuteTime": {
     "end_time": "2022-11-07T11:07:47.954343Z",
     "start_time": "2022-11-07T11:07:47.925888Z"
    }
   },
   "outputs": [],
   "source": [
    "%matplotlib inline\n",
    "matplotlib_inline.backend_inline.set_matplotlib_formats('pdf', 'svg')"
   ]
  },
  {
   "cell_type": "code",
   "execution_count": 154,
   "id": "f65d76d9",
   "metadata": {
    "ExecuteTime": {
     "end_time": "2022-11-07T11:21:02.250340Z",
     "start_time": "2022-11-07T11:21:02.220813Z"
    }
   },
   "outputs": [
    {
     "name": "stdout",
     "output_type": "stream",
     "text": [
      "cpu\n"
     ]
    }
   ],
   "source": [
    "if torch.cuda.is_available():\n",
    "    device = torch.device('cuda:0')\n",
    "else:\n",
    "    device = torch.device('cpu')\n",
    "    \n",
    "print(device)"
   ]
  },
  {
   "cell_type": "code",
   "execution_count": 172,
   "id": "972f3c2f",
   "metadata": {
    "ExecuteTime": {
     "end_time": "2022-11-07T11:32:09.100681Z",
     "start_time": "2022-11-07T11:32:09.072758Z"
    }
   },
   "outputs": [],
   "source": [
    "batch_size, num_workers = 50, 0"
   ]
  },
  {
   "cell_type": "code",
   "execution_count": 173,
   "id": "c9cd8b85",
   "metadata": {
    "ExecuteTime": {
     "end_time": "2022-11-07T11:32:10.341764Z",
     "start_time": "2022-11-07T11:32:09.301076Z"
    }
   },
   "outputs": [],
   "source": [
    "ds_test = SequentialCIFAR10('/Users/nakhodnov/data/datasets/', train=False, download=False)\n",
    "ds_train = SequentialCIFAR10('/Users/nakhodnov/data/datasets/', train=True, download=False)\n",
    "\n",
    "dl_test = torch.utils.data.DataLoader(ds, batch_size=batch_size, num_workers=num_workers, shuffle=False)\n",
    "dl_train = torch.utils.data.DataLoader(ds, batch_size=batch_size, num_workers=num_workers, shuffle=True)"
   ]
  },
  {
   "cell_type": "code",
   "execution_count": 174,
   "id": "c281ee9b",
   "metadata": {
    "ExecuteTime": {
     "end_time": "2022-11-07T11:32:10.991886Z",
     "start_time": "2022-11-07T11:32:10.926858Z"
    }
   },
   "outputs": [
    {
     "data": {
      "text/plain": [
       "torch.Size([50, 1024, 3])"
      ]
     },
     "execution_count": 174,
     "metadata": {},
     "output_type": "execute_result"
    }
   ],
   "source": [
    "images, labels = next(iter(dl_train))\n",
    "images.shape"
   ]
  },
  {
   "cell_type": "code",
   "execution_count": 175,
   "id": "9e0d042e",
   "metadata": {
    "ExecuteTime": {
     "end_time": "2022-11-07T11:32:15.071530Z",
     "start_time": "2022-11-07T11:32:14.975300Z"
    }
   },
   "outputs": [
    {
     "name": "stdout",
     "output_type": "stream",
     "text": [
      "S4Model(\n",
      "  (encoder): Linear(in_features=3, out_features=512, bias=True)\n",
      "  (s4_layers): ModuleList(\n",
      "    (0): S4(\n",
      "      (kernel): SSKernel(\n",
      "        (kernel): SSKernelNPLR()\n",
      "      )\n",
      "      (activation): GELU(approximate='none')\n",
      "      (dropout): DropoutNd()\n",
      "      (output_linear): Sequential(\n",
      "        (0): Conv1d(512, 1024, kernel_size=(1,), stride=(1,))\n",
      "        (1): GLU(dim=-2)\n",
      "      )\n",
      "    )\n",
      "    (1): S4(\n",
      "      (kernel): SSKernel(\n",
      "        (kernel): SSKernelNPLR()\n",
      "      )\n",
      "      (activation): GELU(approximate='none')\n",
      "      (dropout): DropoutNd()\n",
      "      (output_linear): Sequential(\n",
      "        (0): Conv1d(512, 1024, kernel_size=(1,), stride=(1,))\n",
      "        (1): GLU(dim=-2)\n",
      "      )\n",
      "    )\n",
      "    (2): S4(\n",
      "      (kernel): SSKernel(\n",
      "        (kernel): SSKernelNPLR()\n",
      "      )\n",
      "      (activation): GELU(approximate='none')\n",
      "      (dropout): DropoutNd()\n",
      "      (output_linear): Sequential(\n",
      "        (0): Conv1d(512, 1024, kernel_size=(1,), stride=(1,))\n",
      "        (1): GLU(dim=-2)\n",
      "      )\n",
      "    )\n",
      "    (3): S4(\n",
      "      (kernel): SSKernel(\n",
      "        (kernel): SSKernelNPLR()\n",
      "      )\n",
      "      (activation): GELU(approximate='none')\n",
      "      (dropout): DropoutNd()\n",
      "      (output_linear): Sequential(\n",
      "        (0): Conv1d(512, 1024, kernel_size=(1,), stride=(1,))\n",
      "        (1): GLU(dim=-2)\n",
      "      )\n",
      "    )\n",
      "    (4): S4(\n",
      "      (kernel): SSKernel(\n",
      "        (kernel): SSKernelNPLR()\n",
      "      )\n",
      "      (activation): GELU(approximate='none')\n",
      "      (dropout): DropoutNd()\n",
      "      (output_linear): Sequential(\n",
      "        (0): Conv1d(512, 1024, kernel_size=(1,), stride=(1,))\n",
      "        (1): GLU(dim=-2)\n",
      "      )\n",
      "    )\n",
      "    (5): S4(\n",
      "      (kernel): SSKernel(\n",
      "        (kernel): SSKernelNPLR()\n",
      "      )\n",
      "      (activation): GELU(approximate='none')\n",
      "      (dropout): DropoutNd()\n",
      "      (output_linear): Sequential(\n",
      "        (0): Conv1d(512, 1024, kernel_size=(1,), stride=(1,))\n",
      "        (1): GLU(dim=-2)\n",
      "      )\n",
      "    )\n",
      "  )\n",
      "  (norms): ModuleList(\n",
      "    (0): LayerNorm((512,), eps=1e-05, elementwise_affine=True)\n",
      "    (1): LayerNorm((512,), eps=1e-05, elementwise_affine=True)\n",
      "    (2): LayerNorm((512,), eps=1e-05, elementwise_affine=True)\n",
      "    (3): LayerNorm((512,), eps=1e-05, elementwise_affine=True)\n",
      "    (4): LayerNorm((512,), eps=1e-05, elementwise_affine=True)\n",
      "    (5): LayerNorm((512,), eps=1e-05, elementwise_affine=True)\n",
      "  )\n",
      "  (dropouts): ModuleList(\n",
      "    (0): Dropout1d(p=0.1, inplace=False)\n",
      "    (1): Dropout1d(p=0.1, inplace=False)\n",
      "    (2): Dropout1d(p=0.1, inplace=False)\n",
      "    (3): Dropout1d(p=0.1, inplace=False)\n",
      "    (4): Dropout1d(p=0.1, inplace=False)\n",
      "    (5): Dropout1d(p=0.1, inplace=False)\n",
      "  )\n",
      "  (decoder): Linear(in_features=512, out_features=10, bias=True)\n",
      ")\n"
     ]
    }
   ],
   "source": [
    "loss_fn = torch.nn.CrossEntropyLoss(reduction='mean')\n",
    "\n",
    "model = S4Model(\n",
    "    d_input=3,\n",
    "    d_output=len(ds_train.data.classes),\n",
    "    d_model=512,\n",
    "    n_layers=6,\n",
    "    dropout=0.1,\n",
    "    prenorm=False,\n",
    "    block_class=S4,\n",
    "    block_kwargs={\n",
    "        'bidirectional': True, 'postact': 'glu', 'tie_dropout': True,\n",
    "#         'mode': 'diag', 'measure': 'diag-lin', 'disc': 'zoh', 'real_type': 'exp', \n",
    "        'n_ssm': 2\n",
    "    },\n",
    "    dropout_fn=torch.nn.Dropout1d\n",
    ")\n",
    "\n",
    "print(model)\n",
    "optimizer = torch.optim.AdamW(model.parameters(), lr=0.01, weight_decay=0.05)"
   ]
  },
  {
   "cell_type": "code",
   "execution_count": 178,
   "id": "2e36839b",
   "metadata": {
    "ExecuteTime": {
     "end_time": "2022-11-07T11:37:30.979202Z",
     "start_time": "2022-11-07T11:37:30.951186Z"
    }
   },
   "outputs": [],
   "source": []
  },
  {
   "cell_type": "code",
   "execution_count": 184,
   "id": "0e18e818",
   "metadata": {
    "ExecuteTime": {
     "end_time": "2022-11-07T11:44:51.760480Z",
     "start_time": "2022-11-07T11:44:51.728397Z"
    }
   },
   "outputs": [],
   "source": [
    "def train(model, optimizer, loss_fn, dl):\n",
    "    model.train()\n",
    "    \n",
    "    n_objects, total_loss, accuracy = 0, 0.0, 0\n",
    "    for images, labels in tqdm.tqdm(dl_train, total=len(dl), leave=False):\n",
    "        optimizer.zero_grad()\n",
    "\n",
    "        images = images.to(device=device)\n",
    "        labels = labels.to(device=device, dtype=torch.long)\n",
    "        y = model(images)\n",
    "        predictions = torch.argmax(y, dim=1)\n",
    "\n",
    "        loss = loss_fn(y, labels)\n",
    "        loss.backward()\n",
    "        optimizer.step()\n",
    "        n_objects += predictions.shape[0]\n",
    "        total_loss += loss.item() * predictions.shape[0]\n",
    "        accuracy += torch.sum(torch.eq(predictions, labels)).item()\n",
    "        \n",
    "        break\n",
    "        \n",
    "    return total_loss / n_objects, accuracy / n_objects\n",
    "    \n",
    "def test(model, loss_fn, dl):\n",
    "    model.eval()\n",
    "    with torch.no_grad():\n",
    "        n_objects, total_loss, accuracy = 0, 0.0, 0\n",
    "        for images, labels in tqdm.tqdm(dl_train, total=len(dl), leave=False):\n",
    "            images = images.to(device=device)\n",
    "            labels = labels.to(device=device, dtype=torch.long)\n",
    "            y = model(images)\n",
    "            predictions = torch.argmax(y, dim=1)\n",
    "\n",
    "            loss = loss_fn(y, labels)\n",
    "\n",
    "            n_objects += predictions.shape[0]\n",
    "            total_loss += loss.item() * predictions.shape[0]\n",
    "            accuracy += torch.sum(torch.eq(predictions, labels)).item()\n",
    "\n",
    "            break\n",
    "            \n",
    "    return total_loss / n_objects, accuracy / n_objects"
   ]
  },
  {
   "cell_type": "code",
   "execution_count": 185,
   "id": "d1a22c0e",
   "metadata": {
    "ExecuteTime": {
     "end_time": "2022-11-07T11:45:14.925853Z",
     "start_time": "2022-11-07T11:44:51.924606Z"
    }
   },
   "outputs": [
    {
     "data": {
      "application/vnd.jupyter.widget-view+json": {
       "model_id": "f72240d75e544d789677158940e6af46",
       "version_major": 2,
       "version_minor": 0
      },
      "text/plain": [
       "  0%|          | 0/1 [00:00<?, ?it/s]"
      ]
     },
     "metadata": {},
     "output_type": "display_data"
    },
    {
     "data": {
      "application/vnd.jupyter.widget-view+json": {
       "model_id": "d2a8916751e14bc9810ecddfd035659d",
       "version_major": 2,
       "version_minor": 0
      },
      "text/plain": [
       "  0%|          | 0/1000 [00:00<?, ?it/s]"
      ]
     },
     "metadata": {},
     "output_type": "display_data"
    },
    {
     "data": {
      "application/vnd.jupyter.widget-view+json": {
       "model_id": "7b04c2b5a7354ffdb7e02d13dd130163",
       "version_major": 2,
       "version_minor": 0
      },
      "text/plain": [
       "  0%|          | 0/1000 [00:00<?, ?it/s]"
      ]
     },
     "metadata": {},
     "output_type": "display_data"
    },
    {
     "data": {
      "application/vnd.jupyter.widget-view+json": {
       "model_id": "cd696a4ea9ad4391a7806c1a2f15d398",
       "version_major": 2,
       "version_minor": 0
      },
      "text/plain": [
       "  0%|          | 0/1000 [00:00<?, ?it/s]"
      ]
     },
     "metadata": {},
     "output_type": "display_data"
    },
    {
     "name": "stdout",
     "output_type": "stream",
     "text": [
      "Loss: 6.782/6.513. Accuracy: 0.060/0.100\n"
     ]
    }
   ],
   "source": [
    "max_epochs = 1\n",
    "\n",
    "all_losses_test, all_accuracies_test = [], []\n",
    "all_losses_train, all_accuracies_train = [], []\n",
    "for epoch in tqdm.tqdm(range(max_epochs), total=max_epochs):\n",
    "    loss_train, accuracy_train = train(model, optimizer, loss_fn, dl_train)\n",
    "    \n",
    "    loss_train, accuracy_train = test(model, loss_fn, dl_train)\n",
    "    loss_test, accuracy_test = test(model, loss_fn, dl_test)\n",
    "    \n",
    "    all_losses_test.append(loss_test)\n",
    "    all_losses_train.append(loss_train)\n",
    "    all_accuracies_test.append(accuracy_test)\n",
    "    all_accuracies_train.append(accuracy_train)\n",
    "    \n",
    "    print('Loss: {0:.3f}/{1:.3f}. Accuracy: {2:.3f}/{3:.3f}'.format(\n",
    "        all_losses_train[-1], all_losses_test[-1], all_accuracies_train[-1], all_accuracies_test[-1]\n",
    "    ))"
   ]
  },
  {
   "cell_type": "code",
   "execution_count": null,
   "id": "69296b44",
   "metadata": {},
   "outputs": [],
   "source": []
  }
 ],
 "metadata": {
  "kernelspec": {
   "display_name": "Python 3 (ipykernel)",
   "language": "python",
   "name": "python3"
  },
  "language_info": {
   "codemirror_mode": {
    "name": "ipython",
    "version": 3
   },
   "file_extension": ".py",
   "mimetype": "text/x-python",
   "name": "python",
   "nbconvert_exporter": "python",
   "pygments_lexer": "ipython3",
   "version": "3.10.8"
  }
 },
 "nbformat": 4,
 "nbformat_minor": 5
}
